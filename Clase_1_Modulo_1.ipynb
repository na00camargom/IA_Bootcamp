{
  "nbformat": 4,
  "nbformat_minor": 0,
  "metadata": {
    "colab": {
      "provenance": [],
      "authorship_tag": "ABX9TyPp5a/WFFtlWo7Mzyd63DHG",
      "include_colab_link": true
    },
    "kernelspec": {
      "name": "python3",
      "display_name": "Python 3"
    },
    "language_info": {
      "name": "python"
    }
  },
  "cells": [
    {
      "cell_type": "markdown",
      "metadata": {
        "id": "view-in-github",
        "colab_type": "text"
      },
      "source": [
        "<a href=\"https://colab.research.google.com/github/na00camargom/IA_Bootcamp/blob/main/Clase_1_Modulo_1.ipynb\" target=\"_parent\"><img src=\"https://colab.research.google.com/assets/colab-badge.svg\" alt=\"Open In Colab\"/></a>"
      ]
    },
    {
      "cell_type": "markdown",
      "source": [
        "# Semana 1 - Clase 1"
      ],
      "metadata": {
        "id": "URiBh8Aea-Lr"
      }
    },
    {
      "cell_type": "markdown",
      "source": [
        "### Caso de indicadores financieros"
      ],
      "metadata": {
        "id": "dM0N3DIgbJat"
      }
    },
    {
      "cell_type": "markdown",
      "source": [
        "**Reto 1:** Tengo $1.000.000 y quiero duplicarlos ¿Cuánto tiempo tardaré en duplicar mi dinero si la tasa de interés anual es del 8.5%, con una capitalización anual?"
      ],
      "metadata": {
        "id": "6tchQquMbpZ1"
      }
    },
    {
      "cell_type": "code",
      "source": [
        "import math"
      ],
      "metadata": {
        "id": "bv4ny-Nhj1bA"
      },
      "execution_count": null,
      "outputs": []
    },
    {
      "cell_type": "markdown",
      "source": [
        "### Actividad 2"
      ],
      "metadata": {
        "id": "vQZlWff_638e"
      }
    },
    {
      "cell_type": "code",
      "source": [
        "def calc_n_int_comp(p,x,i):\n",
        "  # Considerando a \"p\" como el capital inicial; \"x\" como el factor de multiplicacion del valor inicial; e \"i\" como la tasa de interés,\n",
        "  # La función se encarga de calcular los periodos de capitalizacion necesarios para encontrar el valor deseado en tanto que sea un caso de interes compuesto.\n",
        "\n",
        "  n = math.log((p*x)/p) / math.log(1+i)\n",
        "  if n - int(n) == 0:\n",
        "    rta = f\"El numero de periodos de capitalización para obtener una suma total de {p*x} es {n}\"\n",
        "  else:\n",
        "    rta = f\"El numero de periodos de capitalización para obtener una suma total de {p*x} es de al menos {int(n)+1} ({round(n,3)})\"\n",
        "  return print(rta)"
      ],
      "metadata": {
        "id": "QC_CbMCJa_WU"
      },
      "execution_count": null,
      "outputs": []
    },
    {
      "cell_type": "code",
      "execution_count": null,
      "metadata": {
        "id": "mbY8hmonaMAQ",
        "colab": {
          "base_uri": "https://localhost:8080/"
        },
        "outputId": "74a1c1d8-bbf2-4dde-b750-605a4977fec5"
      },
      "outputs": [
        {
          "output_type": "stream",
          "name": "stdout",
          "text": [
            "El numero de periodos de capitalización para obtener una suma total de 3000000 es de al menos 14 (13.467)\n"
          ]
        }
      ],
      "source": [
        "calc_n_int_comp(1000000,3,0.085)"
      ]
    },
    {
      "cell_type": "markdown",
      "source": [
        "### Actividad 3"
      ],
      "metadata": {
        "id": "Vi_QJAmr3Ki2"
      }
    },
    {
      "cell_type": "code",
      "source": [
        "def calc_vf_int_comp(p,n,i):\n",
        "  # Considerando a \"p\" como el capital inicial; \"n\" como el numero de periodos de capitalización; e \"i\" como la tasa de interés,\n",
        "  # La función se encarga de calcular el valor a futuro en tanto que sea un caso de interes compuesto.\n",
        "\n",
        "  A = p * math.pow(1+i,n)\n",
        "  return print(f\"El capital final es de {round(A,3)}\")"
      ],
      "metadata": {
        "id": "ELj5543B2Rix"
      },
      "execution_count": null,
      "outputs": []
    },
    {
      "cell_type": "code",
      "source": [
        "calc_vf_int_comp(1000000,14,0.085)"
      ],
      "metadata": {
        "colab": {
          "base_uri": "https://localhost:8080/"
        },
        "id": "_7fRiYZivXL_",
        "outputId": "61c436c5-f1fa-4f68-a0e4-7c2aaf5448e7"
      },
      "execution_count": null,
      "outputs": [
        {
          "output_type": "stream",
          "name": "stdout",
          "text": [
            "El capital final es de 3133403.575\n"
          ]
        }
      ]
    },
    {
      "cell_type": "markdown",
      "source": [
        "### Actividad 4"
      ],
      "metadata": {
        "id": "f6rfFGMd3xGI"
      }
    },
    {
      "cell_type": "code",
      "source": [
        "def calc_vi_int_comp(A,n,i):\n",
        "  # Considerando a \"A\" como el capital final; \"n\" como el numero de periodos de capitalización; e \"i\" como la tasa de interés,\n",
        "  # La función se encarga de calcular el valor inicial en tanto que sea un caso de interes compuesto.\n",
        "\n",
        "  P = A / math.pow((1+i),n)\n",
        "  return print(f\"El capital inicial es de {round(P,3)}\")"
      ],
      "metadata": {
        "id": "bdPvNXUt3ljU"
      },
      "execution_count": null,
      "outputs": []
    },
    {
      "cell_type": "code",
      "source": [
        "calc_vi_int_comp(3133403,14,0.085)"
      ],
      "metadata": {
        "colab": {
          "base_uri": "https://localhost:8080/"
        },
        "id": "CNVxB43X35dP",
        "outputId": "4699fcda-1547-48ff-c256-1c99810106f3"
      },
      "execution_count": null,
      "outputs": [
        {
          "output_type": "stream",
          "name": "stdout",
          "text": [
            "El capital inicial es de 999999.817\n"
          ]
        }
      ]
    },
    {
      "cell_type": "markdown",
      "source": [
        "### Actividad bonus"
      ],
      "metadata": {
        "id": "-gveMXPd4TkZ"
      }
    },
    {
      "cell_type": "code",
      "source": [
        "def calc_i_int_comp(A,p,n):\n",
        "  # Considerando a \"A\" como el capital final; \"p\" como el capital inicial; y \"n\" como el numero de periodos de capitalización,\n",
        "  # La función se encarga de calcular el valor a futuro en tanto que sea un caso de interes compuesto.\n",
        "\n",
        "  i = ((A/p)**(1/n)) - 1\n",
        "  return print(f\"La tasa de interes es de {round(i,3)}\")"
      ],
      "metadata": {
        "id": "KMMmtjHO4Ulz"
      },
      "execution_count": null,
      "outputs": []
    },
    {
      "cell_type": "code",
      "source": [
        "calc_i_int_comp(3000000,1000000,13.47)"
      ],
      "metadata": {
        "colab": {
          "base_uri": "https://localhost:8080/"
        },
        "id": "gAQq56CR5ybV",
        "outputId": "35b11b9e-d2d5-4c7d-eebc-20c8c16fcae6"
      },
      "execution_count": null,
      "outputs": [
        {
          "output_type": "stream",
          "name": "stdout",
          "text": [
            "La tasa de interes es de 0.085\n"
          ]
        }
      ]
    },
    {
      "cell_type": "markdown",
      "source": [
        "### Actividad 5. Código para seleccionar el parámetro a calcular de la función de interés compuesto"
      ],
      "metadata": {
        "id": "62PxAYtQ8AVu"
      }
    },
    {
      "cell_type": "code",
      "source": [
        "def salir():\n",
        "  ps = True\n",
        "  while ps:\n",
        "    print()\n",
        "    opt = input(\"Desea calcular un nuevo valor [seleccione '1'], o salir del programa [seleccione '2']? \")\n",
        "    print()\n",
        "    print()\n",
        "    if opt == \"1\":\n",
        "      ans = True\n",
        "      ps = False\n",
        "    elif opt == \"2\":\n",
        "      ans = False\n",
        "      ps = False\n",
        "    else:\n",
        "      print(\"La opcion seleccionada no es valida, por favor intentelo de nuevo\")\n",
        "  return ans"
      ],
      "metadata": {
        "id": "WBarjih8C1t0"
      },
      "execution_count": null,
      "outputs": []
    },
    {
      "cell_type": "code",
      "source": [
        "ps = True\n",
        "while ps:\n",
        "  selec = input(\"Por favor seleccione el parametro que quiere calcular:\\n   1. Valor inicial (P)\\n   2. Valor final (A)\\n   3. Tasa de interes (i)\\n   4. Numero de periodos de capitalizacion (n)\\n   ---> \")\n",
        "  print()\n",
        "  if selec == \"1\":\n",
        "    print(\"Perfecto! Usted quiere saber el valor inicial (P), por favor ingrese la siguiente informacion:\")\n",
        "    A = input(\"Valor final (A): \")\n",
        "    n = input(\"Numero de periodos de capitalizacion (n): \")\n",
        "    i = input(\"Tasa de interes (i): \")\n",
        "    print()\n",
        "    calc_vi_int_comp(float(A),float(n),float(i))\n",
        "    ps = salir()\n",
        "\n",
        "  elif selec == \"2\":\n",
        "    print(\"Perfecto! Usted quiere saber el valor final (A), por favor ingrese la siguiente informacion:\")\n",
        "    p = input(\"Valor inicial (P): \")\n",
        "    n = input(\"Numero de periodos de capitalizacion (n): \")\n",
        "    i = input(\"Tasa de interes (i): \")\n",
        "    print()\n",
        "    calc_vf_int_comp(float(p),float(n),float(i))\n",
        "    ps = salir()\n",
        "\n",
        "  elif selec == \"3\":\n",
        "    print(\"Perfecto! Usted quiere saber la tasa de interes (i), por favor ingrese la siguiente informacion:\")\n",
        "    A = input(\"Valor final (A): \")\n",
        "    p = input(\"Valor inicial (P): \")\n",
        "    n = input(\"Numero de periodos de capitalizacion (n): \")\n",
        "    print()\n",
        "    calc_i_int_comp(float(A),float(p),float(n))\n",
        "    ps = salir()\n",
        "\n",
        "  elif selec == \"4\":\n",
        "    print(\"Perfecto! Usted quiere saber el numero de periodos de capitalizacion (n), por favor ingrese la siguiente informacion:\")\n",
        "    p = float(input(\"Valor inicial (P): \"))\n",
        "    ps2 = True\n",
        "    while ps2:\n",
        "      opt = input(\"Desea usar un factor de multiplicacion del valor inicial (P) [seleccione '1'], o directamente el valor final (A) [seleccione '2']?\\n   ---> \")\n",
        "      if opt == \"1\":\n",
        "        x = input(\"Factor de multiplicación: \")\n",
        "        ps2 = False\n",
        "      elif opt == \"2\":\n",
        "        x1 = float(input(\"Valor final (A): \"))\n",
        "        x = x1/p\n",
        "        ps2 = False\n",
        "      else:\n",
        "        print(\"La opcion seleccionada no es valida, por favor intentelo de nuevo\")\n",
        "\n",
        "    i = input(\"Tasa de interes (i): \")\n",
        "    print()\n",
        "    calc_n_int_comp(p,float(x),float(i))\n",
        "\n",
        "    ps = salir()\n",
        "  else:\n",
        "    print(\"La opcion seleccionada no es valida, por favor intentelo de nuevo\")\n",
        "print(\"Ha sido un placer ayudarle, vuelva pronto!!\")\n"
      ],
      "metadata": {
        "colab": {
          "base_uri": "https://localhost:8080/"
        },
        "id": "IlQErc3F5-Ad",
        "outputId": "eca32262-9104-4cd3-a7e7-30cc355faa25"
      },
      "execution_count": null,
      "outputs": [
        {
          "output_type": "stream",
          "name": "stdout",
          "text": [
            "Por favor seleccione el parametro que quiere calcular:\n",
            "   1. Valor inicial (P)\n",
            "   2. Valor final (A)\n",
            "   3. Tasa de interes (i)\n",
            "   4. Numero de periodos de capitalizacion (n)\n",
            "   ---> igdfdg\n",
            "\n",
            "La opcion seleccionada no es valida, por favor intentelo de nuevo\n",
            "Por favor seleccione el parametro que quiere calcular:\n",
            "   1. Valor inicial (P)\n",
            "   2. Valor final (A)\n",
            "   3. Tasa de interes (i)\n",
            "   4. Numero de periodos de capitalizacion (n)\n",
            "   ---> 1\n",
            "\n",
            "Perfecto! Usted quiere saber el valor inicial (P), por favor ingrese la siguiente informacion:\n",
            "Valor final (A): 50000000\n",
            "Numero de periodos de capitalizacion (n): 10\n",
            "Tasa de interes (i): 0.12\n",
            "\n",
            "El capital inicial es de 16098661.83\n",
            "\n",
            "Desea calcular un nuevo valor [seleccione '1'], o salir del programa [seleccione '2']? klk\n",
            "\n",
            "\n",
            "La opcion seleccionada no es valida, por favor intentelo de nuevo\n",
            "\n",
            "Desea calcular un nuevo valor [seleccione '1'], o salir del programa [seleccione '2']? 1\n",
            "\n",
            "\n",
            "Por favor seleccione el parametro que quiere calcular:\n",
            "   1. Valor inicial (P)\n",
            "   2. Valor final (A)\n",
            "   3. Tasa de interes (i)\n",
            "   4. Numero de periodos de capitalizacion (n)\n",
            "   ---> 3\n",
            "\n",
            "Perfecto! Usted quiere saber la tasa de interes (i), por favor ingrese la siguiente informacion:\n",
            "Valor final (A): 50000000\n",
            "Valor inicial (P): 10000000\n",
            "Numero de periodos de capitalizacion (n): 15\n",
            "\n",
            "La tasa de interes es de 0.113\n",
            "\n",
            "Desea calcular un nuevo valor [seleccione '1'], o salir del programa [seleccione '2']? 1\n",
            "\n",
            "\n",
            "Por favor seleccione el parametro que quiere calcular:\n",
            "   1. Valor inicial (P)\n",
            "   2. Valor final (A)\n",
            "   3. Tasa de interes (i)\n",
            "   4. Numero de periodos de capitalizacion (n)\n",
            "   ---> 4\n",
            "\n",
            "Perfecto! Usted quiere saber el numero de periodos de capitalizacion (n), por favor ingrese la siguiente informacion:\n",
            "Valor inicial (P): 10000000\n",
            "Desea usar un factor de multiplicacion del valor inicial (P) [seleccione '1'], o directamente el valor final (A) [seleccione '2']?\n",
            "   ---> 1\n",
            "Factor de multiplicación: 5\n",
            "Tasa de interes (i): 0.12\n",
            "\n",
            "El numero de periodos de capitalización para obtener una suma total de 50000000.0 es de al menos 15 (14.202)\n",
            "\n",
            "Desea calcular un nuevo valor [seleccione '1'], o salir del programa [seleccione '2']? 2\n",
            "\n",
            "\n",
            "Ha sido un placer ayudarle, vuelva pronto!!\n"
          ]
        }
      ]
    },
    {
      "cell_type": "code",
      "source": [],
      "metadata": {
        "id": "cu59573Z9aoZ"
      },
      "execution_count": null,
      "outputs": []
    }
  ]
}